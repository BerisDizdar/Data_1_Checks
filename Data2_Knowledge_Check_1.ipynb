{
 "cells": [
  {
   "attachments": {},
   "cell_type": "markdown",
   "metadata": {},
   "source": [
    "# Data 2 Knowledge Check 1"
   ]
  },
  {
   "attachments": {},
   "cell_type": "markdown",
   "metadata": {},
   "source": [
    "## Pull in data from an API "
   ]
  },
  {
   "cell_type": "code",
   "execution_count": 6,
   "metadata": {},
   "outputs": [],
   "source": [
    "# Import packages\n",
    "import requests as re \n",
    "import json\n",
    "import pandas as pd "
   ]
  },
  {
   "cell_type": "code",
   "execution_count": 14,
   "metadata": {},
   "outputs": [],
   "source": [
    "# Variables\n",
    "url = 'https://datausa.io/api/data?drilldowns=Nation&measures=Population'\n",
    "r = re.get(url) \n",
    "r_json = r.json()  "
   ]
  },
  {
   "cell_type": "code",
   "execution_count": 53,
   "metadata": {},
   "outputs": [
    {
     "name": "stdout",
     "output_type": "stream",
     "text": [
      "{'data': [{'ID Nation': '01000US', 'Nation': 'United States', 'ID Year': 2020, 'Year': '2020', 'Population': 326569308, 'Slug Nation': 'united-states'}, {'ID Nation': '01000US', 'Nation': 'United States', 'ID Year': 2019, 'Year': '2019', 'Population': 324697795, 'Slug Nation': 'united-states'}, {'ID Nation': '01000US', 'Nation': 'United States', 'ID Year': 2018, 'Year': '2018', 'Population': 322903030, 'Slug Nation': 'united-states'}, {'ID Nation': '01000US', 'Nation': 'United States', 'ID Year': 2017, 'Year': '2017', 'Population': 321004407, 'Slug Nation': 'united-states'}, {'ID Nation': '01000US', 'Nation': 'United States', 'ID Year': 2016, 'Year': '2016', 'Population': 318558162, 'Slug Nation': 'united-states'}, {'ID Nation': '01000US', 'Nation': 'United States', 'ID Year': 2015, 'Year': '2015', 'Population': 316515021, 'Slug Nation': 'united-states'}, {'ID Nation': '01000US', 'Nation': 'United States', 'ID Year': 2014, 'Year': '2014', 'Population': 314107084, 'Slug Nation': 'united-states'}, {'ID Nation': '01000US', 'Nation': 'United States', 'ID Year': 2013, 'Year': '2013', 'Population': 311536594, 'Slug Nation': 'united-states'}], 'source': [{'measures': ['Population'], 'annotations': {'source_name': 'Census Bureau', 'source_description': 'The American Community Survey (ACS) is conducted by the US Census and sent to a portion of the population every year.', 'dataset_name': 'ACS 5-year Estimate', 'dataset_link': 'http://www.census.gov/programs-surveys/acs/', 'table_id': 'B01003', 'topic': 'Diversity', 'subtopic': 'Demographics'}, 'name': 'acs_yg_total_population_5', 'substitutions': []}]}\n"
     ]
    }
   ],
   "source": [
    "# View json file. \n",
    "print(r_json) "
   ]
  },
  {
   "cell_type": "code",
   "execution_count": 33,
   "metadata": {},
   "outputs": [
    {
     "data": {
      "text/html": [
       "<div>\n",
       "<style scoped>\n",
       "    .dataframe tbody tr th:only-of-type {\n",
       "        vertical-align: middle;\n",
       "    }\n",
       "\n",
       "    .dataframe tbody tr th {\n",
       "        vertical-align: top;\n",
       "    }\n",
       "\n",
       "    .dataframe thead th {\n",
       "        text-align: right;\n",
       "    }\n",
       "</style>\n",
       "<table border=\"1\" class=\"dataframe\">\n",
       "  <thead>\n",
       "    <tr style=\"text-align: right;\">\n",
       "      <th></th>\n",
       "      <th>ID Nation</th>\n",
       "      <th>Nation</th>\n",
       "      <th>ID Year</th>\n",
       "      <th>Year</th>\n",
       "      <th>Population</th>\n",
       "      <th>Slug Nation</th>\n",
       "    </tr>\n",
       "  </thead>\n",
       "  <tbody>\n",
       "    <tr>\n",
       "      <th>0</th>\n",
       "      <td>01000US</td>\n",
       "      <td>United States</td>\n",
       "      <td>2020</td>\n",
       "      <td>2020</td>\n",
       "      <td>326569308</td>\n",
       "      <td>united-states</td>\n",
       "    </tr>\n",
       "    <tr>\n",
       "      <th>1</th>\n",
       "      <td>01000US</td>\n",
       "      <td>United States</td>\n",
       "      <td>2019</td>\n",
       "      <td>2019</td>\n",
       "      <td>324697795</td>\n",
       "      <td>united-states</td>\n",
       "    </tr>\n",
       "    <tr>\n",
       "      <th>2</th>\n",
       "      <td>01000US</td>\n",
       "      <td>United States</td>\n",
       "      <td>2018</td>\n",
       "      <td>2018</td>\n",
       "      <td>322903030</td>\n",
       "      <td>united-states</td>\n",
       "    </tr>\n",
       "    <tr>\n",
       "      <th>3</th>\n",
       "      <td>01000US</td>\n",
       "      <td>United States</td>\n",
       "      <td>2017</td>\n",
       "      <td>2017</td>\n",
       "      <td>321004407</td>\n",
       "      <td>united-states</td>\n",
       "    </tr>\n",
       "    <tr>\n",
       "      <th>4</th>\n",
       "      <td>01000US</td>\n",
       "      <td>United States</td>\n",
       "      <td>2016</td>\n",
       "      <td>2016</td>\n",
       "      <td>318558162</td>\n",
       "      <td>united-states</td>\n",
       "    </tr>\n",
       "  </tbody>\n",
       "</table>\n",
       "</div>"
      ],
      "text/plain": [
       "  ID Nation         Nation  ID Year  Year  Population    Slug Nation\n",
       "0   01000US  United States     2020  2020   326569308  united-states\n",
       "1   01000US  United States     2019  2019   324697795  united-states\n",
       "2   01000US  United States     2018  2018   322903030  united-states\n",
       "3   01000US  United States     2017  2017   321004407  united-states\n",
       "4   01000US  United States     2016  2016   318558162  united-states"
      ]
     },
     "execution_count": 33,
     "metadata": {},
     "output_type": "execute_result"
    }
   ],
   "source": [
    "# Create Pandas DataFrame. \n",
    "pop_df = pd.json_normalize(data = r_json['data']) \n",
    "pop_df.head() "
   ]
  },
  {
   "cell_type": "code",
   "execution_count": 19,
   "metadata": {},
   "outputs": [
    {
     "data": {
      "text/plain": [
       "(8, 6)"
      ]
     },
     "execution_count": 19,
     "metadata": {},
     "output_type": "execute_result"
    }
   ],
   "source": [
    "# Shape of data.\n",
    "pop_df.shape"
   ]
  },
  {
   "cell_type": "code",
   "execution_count": 21,
   "metadata": {},
   "outputs": [
    {
     "data": {
      "text/plain": [
       "0    326569308\n",
       "1    324697795\n",
       "2    322903030\n",
       "3    321004407\n",
       "4    318558162\n",
       "5    316515021\n",
       "6    314107084\n",
       "7    311536594\n",
       "Name: Population, dtype: int64"
      ]
     },
     "execution_count": 21,
     "metadata": {},
     "output_type": "execute_result"
    }
   ],
   "source": [
    "# View population column. \n",
    "pop_df['Population'] "
   ]
  },
  {
   "attachments": {},
   "cell_type": "markdown",
   "metadata": {},
   "source": [
    "## Print descriptive statistics about data "
   ]
  },
  {
   "cell_type": "code",
   "execution_count": 22,
   "metadata": {},
   "outputs": [
    {
     "data": {
      "text/plain": [
       "319486425.125"
      ]
     },
     "execution_count": 22,
     "metadata": {},
     "output_type": "execute_result"
    }
   ],
   "source": [
    "# Average U.S. population from 2013 to 2020. \n",
    "pop_df['Population'].mean()"
   ]
  },
  {
   "cell_type": "code",
   "execution_count": 25,
   "metadata": {},
   "outputs": [
    {
     "data": {
      "text/plain": [
       "319781284.5"
      ]
     },
     "execution_count": 25,
     "metadata": {},
     "output_type": "execute_result"
    }
   ],
   "source": [
    "pop_df['Population'].median() "
   ]
  },
  {
   "cell_type": "code",
   "execution_count": 26,
   "metadata": {},
   "outputs": [
    {
     "data": {
      "text/plain": [
       "326569308"
      ]
     },
     "execution_count": 26,
     "metadata": {},
     "output_type": "execute_result"
    }
   ],
   "source": [
    "# Highest U.S. population from 2013 to 2020.\n",
    "pop_df['Population'].max()"
   ]
  },
  {
   "cell_type": "code",
   "execution_count": 27,
   "metadata": {},
   "outputs": [
    {
     "data": {
      "text/plain": [
       "311536594"
      ]
     },
     "execution_count": 27,
     "metadata": {},
     "output_type": "execute_result"
    }
   ],
   "source": [
    "# Lowest U.S. population from 2013 to 2020. \n",
    "pop_df['Population'].min()"
   ]
  },
  {
   "attachments": {},
   "cell_type": "markdown",
   "metadata": {},
   "source": [
    "## Pandas query"
   ]
  },
  {
   "cell_type": "code",
   "execution_count": 29,
   "metadata": {},
   "outputs": [
    {
     "data": {
      "text/html": [
       "<div>\n",
       "<style scoped>\n",
       "    .dataframe tbody tr th:only-of-type {\n",
       "        vertical-align: middle;\n",
       "    }\n",
       "\n",
       "    .dataframe tbody tr th {\n",
       "        vertical-align: top;\n",
       "    }\n",
       "\n",
       "    .dataframe thead th {\n",
       "        text-align: right;\n",
       "    }\n",
       "</style>\n",
       "<table border=\"1\" class=\"dataframe\">\n",
       "  <thead>\n",
       "    <tr style=\"text-align: right;\">\n",
       "      <th></th>\n",
       "      <th>ID Nation</th>\n",
       "      <th>Nation</th>\n",
       "      <th>ID Year</th>\n",
       "      <th>Year</th>\n",
       "      <th>Population</th>\n",
       "      <th>Slug Nation</th>\n",
       "    </tr>\n",
       "  </thead>\n",
       "  <tbody>\n",
       "    <tr>\n",
       "      <th>0</th>\n",
       "      <td>01000US</td>\n",
       "      <td>United States</td>\n",
       "      <td>2020</td>\n",
       "      <td>2020</td>\n",
       "      <td>326569308</td>\n",
       "      <td>united-states</td>\n",
       "    </tr>\n",
       "    <tr>\n",
       "      <th>1</th>\n",
       "      <td>01000US</td>\n",
       "      <td>United States</td>\n",
       "      <td>2019</td>\n",
       "      <td>2019</td>\n",
       "      <td>324697795</td>\n",
       "      <td>united-states</td>\n",
       "    </tr>\n",
       "    <tr>\n",
       "      <th>2</th>\n",
       "      <td>01000US</td>\n",
       "      <td>United States</td>\n",
       "      <td>2018</td>\n",
       "      <td>2018</td>\n",
       "      <td>322903030</td>\n",
       "      <td>united-states</td>\n",
       "    </tr>\n",
       "    <tr>\n",
       "      <th>3</th>\n",
       "      <td>01000US</td>\n",
       "      <td>United States</td>\n",
       "      <td>2017</td>\n",
       "      <td>2017</td>\n",
       "      <td>321004407</td>\n",
       "      <td>united-states</td>\n",
       "    </tr>\n",
       "  </tbody>\n",
       "</table>\n",
       "</div>"
      ],
      "text/plain": [
       "  ID Nation         Nation  ID Year  Year  Population    Slug Nation\n",
       "0   01000US  United States     2020  2020   326569308  united-states\n",
       "1   01000US  United States     2019  2019   324697795  united-states\n",
       "2   01000US  United States     2018  2018   322903030  united-states\n",
       "3   01000US  United States     2017  2017   321004407  united-states"
      ]
     },
     "execution_count": 29,
     "metadata": {},
     "output_type": "execute_result"
    }
   ],
   "source": [
    "# Years when the U.S. population is greater than 320,000,000. \n",
    "pop_lvl = pop_df[pop_df['Population'] > 320000000] \n",
    "pop_lvl"
   ]
  },
  {
   "cell_type": "code",
   "execution_count": 32,
   "metadata": {},
   "outputs": [
    {
     "data": {
      "text/html": [
       "<div>\n",
       "<style scoped>\n",
       "    .dataframe tbody tr th:only-of-type {\n",
       "        vertical-align: middle;\n",
       "    }\n",
       "\n",
       "    .dataframe tbody tr th {\n",
       "        vertical-align: top;\n",
       "    }\n",
       "\n",
       "    .dataframe thead th {\n",
       "        text-align: right;\n",
       "    }\n",
       "</style>\n",
       "<table border=\"1\" class=\"dataframe\">\n",
       "  <thead>\n",
       "    <tr style=\"text-align: right;\">\n",
       "      <th></th>\n",
       "      <th>ID Nation</th>\n",
       "      <th>Nation</th>\n",
       "      <th>ID Year</th>\n",
       "      <th>Year</th>\n",
       "      <th>Population</th>\n",
       "      <th>Slug Nation</th>\n",
       "    </tr>\n",
       "  </thead>\n",
       "  <tbody>\n",
       "    <tr>\n",
       "      <th>6</th>\n",
       "      <td>01000US</td>\n",
       "      <td>United States</td>\n",
       "      <td>2014</td>\n",
       "      <td>2014</td>\n",
       "      <td>314107084</td>\n",
       "      <td>united-states</td>\n",
       "    </tr>\n",
       "    <tr>\n",
       "      <th>7</th>\n",
       "      <td>01000US</td>\n",
       "      <td>United States</td>\n",
       "      <td>2013</td>\n",
       "      <td>2013</td>\n",
       "      <td>311536594</td>\n",
       "      <td>united-states</td>\n",
       "    </tr>\n",
       "  </tbody>\n",
       "</table>\n",
       "</div>"
      ],
      "text/plain": [
       "  ID Nation         Nation  ID Year  Year  Population    Slug Nation\n",
       "6   01000US  United States     2014  2014   314107084  united-states\n",
       "7   01000US  United States     2013  2013   311536594  united-states"
      ]
     },
     "execution_count": 32,
     "metadata": {},
     "output_type": "execute_result"
    }
   ],
   "source": [
    "# Years when the U.S. population is less than 315,000,000. \n",
    "pop_lvl2 = pop_df[pop_df['Population'] < 315000000] \n",
    "pop_lvl2"
   ]
  },
  {
   "attachments": {},
   "cell_type": "markdown",
   "metadata": {},
   "source": [
    "## Select and print 2nd and 3rd colums of DataFrame"
   ]
  },
  {
   "cell_type": "code",
   "execution_count": 55,
   "metadata": {},
   "outputs": [
    {
     "data": {
      "text/html": [
       "<div>\n",
       "<style scoped>\n",
       "    .dataframe tbody tr th:only-of-type {\n",
       "        vertical-align: middle;\n",
       "    }\n",
       "\n",
       "    .dataframe tbody tr th {\n",
       "        vertical-align: top;\n",
       "    }\n",
       "\n",
       "    .dataframe thead th {\n",
       "        text-align: right;\n",
       "    }\n",
       "</style>\n",
       "<table border=\"1\" class=\"dataframe\">\n",
       "  <thead>\n",
       "    <tr style=\"text-align: right;\">\n",
       "      <th></th>\n",
       "      <th>ID Nation</th>\n",
       "      <th>Nation</th>\n",
       "      <th>ID Year</th>\n",
       "      <th>Year</th>\n",
       "      <th>Population</th>\n",
       "      <th>Slug Nation</th>\n",
       "    </tr>\n",
       "  </thead>\n",
       "  <tbody>\n",
       "    <tr>\n",
       "      <th>0</th>\n",
       "      <td>01000US</td>\n",
       "      <td>United States</td>\n",
       "      <td>2020</td>\n",
       "      <td>2020</td>\n",
       "      <td>326569308</td>\n",
       "      <td>united-states</td>\n",
       "    </tr>\n",
       "    <tr>\n",
       "      <th>1</th>\n",
       "      <td>01000US</td>\n",
       "      <td>United States</td>\n",
       "      <td>2019</td>\n",
       "      <td>2019</td>\n",
       "      <td>324697795</td>\n",
       "      <td>united-states</td>\n",
       "    </tr>\n",
       "    <tr>\n",
       "      <th>2</th>\n",
       "      <td>01000US</td>\n",
       "      <td>United States</td>\n",
       "      <td>2018</td>\n",
       "      <td>2018</td>\n",
       "      <td>322903030</td>\n",
       "      <td>united-states</td>\n",
       "    </tr>\n",
       "    <tr>\n",
       "      <th>3</th>\n",
       "      <td>01000US</td>\n",
       "      <td>United States</td>\n",
       "      <td>2017</td>\n",
       "      <td>2017</td>\n",
       "      <td>321004407</td>\n",
       "      <td>united-states</td>\n",
       "    </tr>\n",
       "    <tr>\n",
       "      <th>4</th>\n",
       "      <td>01000US</td>\n",
       "      <td>United States</td>\n",
       "      <td>2016</td>\n",
       "      <td>2016</td>\n",
       "      <td>318558162</td>\n",
       "      <td>united-states</td>\n",
       "    </tr>\n",
       "  </tbody>\n",
       "</table>\n",
       "</div>"
      ],
      "text/plain": [
       "  ID Nation         Nation  ID Year  Year  Population    Slug Nation\n",
       "0   01000US  United States     2020  2020   326569308  united-states\n",
       "1   01000US  United States     2019  2019   324697795  united-states\n",
       "2   01000US  United States     2018  2018   322903030  united-states\n",
       "3   01000US  United States     2017  2017   321004407  united-states\n",
       "4   01000US  United States     2016  2016   318558162  united-states"
      ]
     },
     "execution_count": 55,
     "metadata": {},
     "output_type": "execute_result"
    }
   ],
   "source": [
    "pop_df.head()"
   ]
  },
  {
   "cell_type": "code",
   "execution_count": 51,
   "metadata": {},
   "outputs": [
    {
     "data": {
      "text/html": [
       "<div>\n",
       "<style scoped>\n",
       "    .dataframe tbody tr th:only-of-type {\n",
       "        vertical-align: middle;\n",
       "    }\n",
       "\n",
       "    .dataframe tbody tr th {\n",
       "        vertical-align: top;\n",
       "    }\n",
       "\n",
       "    .dataframe thead th {\n",
       "        text-align: right;\n",
       "    }\n",
       "</style>\n",
       "<table border=\"1\" class=\"dataframe\">\n",
       "  <thead>\n",
       "    <tr style=\"text-align: right;\">\n",
       "      <th></th>\n",
       "      <th>Nation</th>\n",
       "      <th>ID Year</th>\n",
       "    </tr>\n",
       "  </thead>\n",
       "  <tbody>\n",
       "    <tr>\n",
       "      <th>0</th>\n",
       "      <td>United States</td>\n",
       "      <td>2020</td>\n",
       "    </tr>\n",
       "    <tr>\n",
       "      <th>1</th>\n",
       "      <td>United States</td>\n",
       "      <td>2019</td>\n",
       "    </tr>\n",
       "    <tr>\n",
       "      <th>2</th>\n",
       "      <td>United States</td>\n",
       "      <td>2018</td>\n",
       "    </tr>\n",
       "    <tr>\n",
       "      <th>3</th>\n",
       "      <td>United States</td>\n",
       "      <td>2017</td>\n",
       "    </tr>\n",
       "    <tr>\n",
       "      <th>4</th>\n",
       "      <td>United States</td>\n",
       "      <td>2016</td>\n",
       "    </tr>\n",
       "    <tr>\n",
       "      <th>5</th>\n",
       "      <td>United States</td>\n",
       "      <td>2015</td>\n",
       "    </tr>\n",
       "    <tr>\n",
       "      <th>6</th>\n",
       "      <td>United States</td>\n",
       "      <td>2014</td>\n",
       "    </tr>\n",
       "    <tr>\n",
       "      <th>7</th>\n",
       "      <td>United States</td>\n",
       "      <td>2013</td>\n",
       "    </tr>\n",
       "  </tbody>\n",
       "</table>\n",
       "</div>"
      ],
      "text/plain": [
       "          Nation  ID Year\n",
       "0  United States     2020\n",
       "1  United States     2019\n",
       "2  United States     2018\n",
       "3  United States     2017\n",
       "4  United States     2016\n",
       "5  United States     2015\n",
       "6  United States     2014\n",
       "7  United States     2013"
      ]
     },
     "execution_count": 51,
     "metadata": {},
     "output_type": "execute_result"
    }
   ],
   "source": [
    "# Select 2nd and 3rd columns of DataFrame. \n",
    "pop_df.iloc[:, 1:3]"
   ]
  },
  {
   "attachments": {},
   "cell_type": "markdown",
   "metadata": {},
   "source": [
    "## Select and print first four rows of DataFrame"
   ]
  },
  {
   "cell_type": "code",
   "execution_count": 56,
   "metadata": {},
   "outputs": [
    {
     "data": {
      "text/html": [
       "<div>\n",
       "<style scoped>\n",
       "    .dataframe tbody tr th:only-of-type {\n",
       "        vertical-align: middle;\n",
       "    }\n",
       "\n",
       "    .dataframe tbody tr th {\n",
       "        vertical-align: top;\n",
       "    }\n",
       "\n",
       "    .dataframe thead th {\n",
       "        text-align: right;\n",
       "    }\n",
       "</style>\n",
       "<table border=\"1\" class=\"dataframe\">\n",
       "  <thead>\n",
       "    <tr style=\"text-align: right;\">\n",
       "      <th></th>\n",
       "      <th>ID Nation</th>\n",
       "      <th>Nation</th>\n",
       "      <th>ID Year</th>\n",
       "      <th>Year</th>\n",
       "      <th>Population</th>\n",
       "      <th>Slug Nation</th>\n",
       "    </tr>\n",
       "  </thead>\n",
       "  <tbody>\n",
       "    <tr>\n",
       "      <th>0</th>\n",
       "      <td>01000US</td>\n",
       "      <td>United States</td>\n",
       "      <td>2020</td>\n",
       "      <td>2020</td>\n",
       "      <td>326569308</td>\n",
       "      <td>united-states</td>\n",
       "    </tr>\n",
       "    <tr>\n",
       "      <th>1</th>\n",
       "      <td>01000US</td>\n",
       "      <td>United States</td>\n",
       "      <td>2019</td>\n",
       "      <td>2019</td>\n",
       "      <td>324697795</td>\n",
       "      <td>united-states</td>\n",
       "    </tr>\n",
       "    <tr>\n",
       "      <th>2</th>\n",
       "      <td>01000US</td>\n",
       "      <td>United States</td>\n",
       "      <td>2018</td>\n",
       "      <td>2018</td>\n",
       "      <td>322903030</td>\n",
       "      <td>united-states</td>\n",
       "    </tr>\n",
       "    <tr>\n",
       "      <th>3</th>\n",
       "      <td>01000US</td>\n",
       "      <td>United States</td>\n",
       "      <td>2017</td>\n",
       "      <td>2017</td>\n",
       "      <td>321004407</td>\n",
       "      <td>united-states</td>\n",
       "    </tr>\n",
       "    <tr>\n",
       "      <th>4</th>\n",
       "      <td>01000US</td>\n",
       "      <td>United States</td>\n",
       "      <td>2016</td>\n",
       "      <td>2016</td>\n",
       "      <td>318558162</td>\n",
       "      <td>united-states</td>\n",
       "    </tr>\n",
       "  </tbody>\n",
       "</table>\n",
       "</div>"
      ],
      "text/plain": [
       "  ID Nation         Nation  ID Year  Year  Population    Slug Nation\n",
       "0   01000US  United States     2020  2020   326569308  united-states\n",
       "1   01000US  United States     2019  2019   324697795  united-states\n",
       "2   01000US  United States     2018  2018   322903030  united-states\n",
       "3   01000US  United States     2017  2017   321004407  united-states\n",
       "4   01000US  United States     2016  2016   318558162  united-states"
      ]
     },
     "execution_count": 56,
     "metadata": {},
     "output_type": "execute_result"
    }
   ],
   "source": [
    "pop_df.head() "
   ]
  },
  {
   "cell_type": "code",
   "execution_count": 52,
   "metadata": {},
   "outputs": [
    {
     "data": {
      "text/html": [
       "<div>\n",
       "<style scoped>\n",
       "    .dataframe tbody tr th:only-of-type {\n",
       "        vertical-align: middle;\n",
       "    }\n",
       "\n",
       "    .dataframe tbody tr th {\n",
       "        vertical-align: top;\n",
       "    }\n",
       "\n",
       "    .dataframe thead th {\n",
       "        text-align: right;\n",
       "    }\n",
       "</style>\n",
       "<table border=\"1\" class=\"dataframe\">\n",
       "  <thead>\n",
       "    <tr style=\"text-align: right;\">\n",
       "      <th></th>\n",
       "      <th>ID Nation</th>\n",
       "      <th>Nation</th>\n",
       "      <th>ID Year</th>\n",
       "      <th>Year</th>\n",
       "      <th>Population</th>\n",
       "      <th>Slug Nation</th>\n",
       "    </tr>\n",
       "  </thead>\n",
       "  <tbody>\n",
       "    <tr>\n",
       "      <th>0</th>\n",
       "      <td>01000US</td>\n",
       "      <td>United States</td>\n",
       "      <td>2020</td>\n",
       "      <td>2020</td>\n",
       "      <td>326569308</td>\n",
       "      <td>united-states</td>\n",
       "    </tr>\n",
       "    <tr>\n",
       "      <th>1</th>\n",
       "      <td>01000US</td>\n",
       "      <td>United States</td>\n",
       "      <td>2019</td>\n",
       "      <td>2019</td>\n",
       "      <td>324697795</td>\n",
       "      <td>united-states</td>\n",
       "    </tr>\n",
       "    <tr>\n",
       "      <th>2</th>\n",
       "      <td>01000US</td>\n",
       "      <td>United States</td>\n",
       "      <td>2018</td>\n",
       "      <td>2018</td>\n",
       "      <td>322903030</td>\n",
       "      <td>united-states</td>\n",
       "    </tr>\n",
       "    <tr>\n",
       "      <th>3</th>\n",
       "      <td>01000US</td>\n",
       "      <td>United States</td>\n",
       "      <td>2017</td>\n",
       "      <td>2017</td>\n",
       "      <td>321004407</td>\n",
       "      <td>united-states</td>\n",
       "    </tr>\n",
       "  </tbody>\n",
       "</table>\n",
       "</div>"
      ],
      "text/plain": [
       "  ID Nation         Nation  ID Year  Year  Population    Slug Nation\n",
       "0   01000US  United States     2020  2020   326569308  united-states\n",
       "1   01000US  United States     2019  2019   324697795  united-states\n",
       "2   01000US  United States     2018  2018   322903030  united-states\n",
       "3   01000US  United States     2017  2017   321004407  united-states"
      ]
     },
     "execution_count": 52,
     "metadata": {},
     "output_type": "execute_result"
    }
   ],
   "source": [
    "# Select first four rows of DataFrame. \n",
    "pop_df.loc[0:3, :]"
   ]
  },
  {
   "cell_type": "code",
   "execution_count": null,
   "metadata": {},
   "outputs": [],
   "source": []
  }
 ],
 "metadata": {
  "kernelspec": {
   "display_name": "Python 3",
   "language": "python",
   "name": "python3"
  },
  "language_info": {
   "codemirror_mode": {
    "name": "ipython",
    "version": 3
   },
   "file_extension": ".py",
   "mimetype": "text/x-python",
   "name": "python",
   "nbconvert_exporter": "python",
   "pygments_lexer": "ipython3",
   "version": "3.11.0"
  },
  "orig_nbformat": 4,
  "vscode": {
   "interpreter": {
    "hash": "aee8b7b246df8f9039afb4144a1f6fd8d2ca17a180786b69acc140d282b71a49"
   }
  }
 },
 "nbformat": 4,
 "nbformat_minor": 2
}
